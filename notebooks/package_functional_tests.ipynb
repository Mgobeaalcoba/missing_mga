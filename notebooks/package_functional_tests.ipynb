{
 "cells": [
  {
   "cell_type": "code",
   "execution_count": 1,
   "metadata": {},
   "outputs": [
    {
     "name": "stdout",
     "output_type": "stream",
     "text": [
      "Requirement already satisfied: missing_mga in /Users/ivsouza/repos/personal_repos/missing_mga/.venv/lib/python3.9/site-packages (1.1.1)\n",
      "Requirement already satisfied: pandas in /Users/ivsouza/repos/personal_repos/missing_mga/.venv/lib/python3.9/site-packages (from missing_mga) (2.2.2)\n",
      "Requirement already satisfied: numpy in /Users/ivsouza/repos/personal_repos/missing_mga/.venv/lib/python3.9/site-packages (from missing_mga) (1.26.4)\n",
      "Requirement already satisfied: matplotlib in /Users/ivsouza/repos/personal_repos/missing_mga/.venv/lib/python3.9/site-packages (from missing_mga) (3.9.0)\n",
      "Requirement already satisfied: seaborn in /Users/ivsouza/repos/personal_repos/missing_mga/.venv/lib/python3.9/site-packages (from missing_mga) (0.13.2)\n",
      "Requirement already satisfied: upsetplot in /Users/ivsouza/repos/personal_repos/missing_mga/.venv/lib/python3.9/site-packages (from missing_mga) (0.9.0)\n",
      "Requirement already satisfied: scikit-learn in /Users/ivsouza/repos/personal_repos/missing_mga/.venv/lib/python3.9/site-packages (from missing_mga) (1.5.0)\n",
      "Requirement already satisfied: contourpy>=1.0.1 in /Users/ivsouza/repos/personal_repos/missing_mga/.venv/lib/python3.9/site-packages (from matplotlib->missing_mga) (1.2.1)\n",
      "Requirement already satisfied: cycler>=0.10 in /Users/ivsouza/repos/personal_repos/missing_mga/.venv/lib/python3.9/site-packages (from matplotlib->missing_mga) (0.12.1)\n",
      "Requirement already satisfied: fonttools>=4.22.0 in /Users/ivsouza/repos/personal_repos/missing_mga/.venv/lib/python3.9/site-packages (from matplotlib->missing_mga) (4.53.0)\n",
      "Requirement already satisfied: kiwisolver>=1.3.1 in /Users/ivsouza/repos/personal_repos/missing_mga/.venv/lib/python3.9/site-packages (from matplotlib->missing_mga) (1.4.5)\n",
      "Requirement already satisfied: packaging>=20.0 in /Users/ivsouza/repos/personal_repos/missing_mga/.venv/lib/python3.9/site-packages (from matplotlib->missing_mga) (24.1)\n",
      "Requirement already satisfied: pillow>=8 in /Users/ivsouza/repos/personal_repos/missing_mga/.venv/lib/python3.9/site-packages (from matplotlib->missing_mga) (10.3.0)\n",
      "Requirement already satisfied: pyparsing>=2.3.1 in /Users/ivsouza/repos/personal_repos/missing_mga/.venv/lib/python3.9/site-packages (from matplotlib->missing_mga) (3.1.2)\n",
      "Requirement already satisfied: python-dateutil>=2.7 in /Users/ivsouza/repos/personal_repos/missing_mga/.venv/lib/python3.9/site-packages (from matplotlib->missing_mga) (2.9.0.post0)\n",
      "Requirement already satisfied: importlib-resources>=3.2.0 in /Users/ivsouza/repos/personal_repos/missing_mga/.venv/lib/python3.9/site-packages (from matplotlib->missing_mga) (6.4.0)\n",
      "Requirement already satisfied: pytz>=2020.1 in /Users/ivsouza/repos/personal_repos/missing_mga/.venv/lib/python3.9/site-packages (from pandas->missing_mga) (2024.1)\n",
      "Requirement already satisfied: tzdata>=2022.7 in /Users/ivsouza/repos/personal_repos/missing_mga/.venv/lib/python3.9/site-packages (from pandas->missing_mga) (2024.1)\n",
      "Requirement already satisfied: scipy>=1.6.0 in /Users/ivsouza/repos/personal_repos/missing_mga/.venv/lib/python3.9/site-packages (from scikit-learn->missing_mga) (1.13.1)\n",
      "Requirement already satisfied: joblib>=1.2.0 in /Users/ivsouza/repos/personal_repos/missing_mga/.venv/lib/python3.9/site-packages (from scikit-learn->missing_mga) (1.4.2)\n",
      "Requirement already satisfied: threadpoolctl>=3.1.0 in /Users/ivsouza/repos/personal_repos/missing_mga/.venv/lib/python3.9/site-packages (from scikit-learn->missing_mga) (3.5.0)\n",
      "Requirement already satisfied: zipp>=3.1.0 in /Users/ivsouza/repos/personal_repos/missing_mga/.venv/lib/python3.9/site-packages (from importlib-resources>=3.2.0->matplotlib->missing_mga) (3.19.2)\n",
      "Requirement already satisfied: six>=1.5 in /Users/ivsouza/repos/personal_repos/missing_mga/.venv/lib/python3.9/site-packages (from python-dateutil>=2.7->matplotlib->missing_mga) (1.16.0)\n",
      "Note: you may need to restart the kernel to use updated packages.\n"
     ]
    }
   ],
   "source": [
    "pip install missing_mga"
   ]
  },
  {
   "cell_type": "code",
   "execution_count": 3,
   "metadata": {},
   "outputs": [
    {
     "data": {
      "text/plain": [
       "<missing_mga.missing_methods.MissingMethods at 0x134a04b20>"
      ]
     },
     "execution_count": 3,
     "metadata": {},
     "output_type": "execute_result"
    }
   ],
   "source": [
    "import pandas as pd\n",
    "from missing_mga import missing\n",
    "\n",
    "data = {\n",
    "    'A': [1, 2, None, 4, 5],\n",
    "    'B': [None, 2, 3, 4, 5],\n",
    "    'C': [1, 2, 3, 4, 5],\n",
    "    'D': [1, 2, 3, 4, 5],    \n",
    "}\n",
    "\n",
    "df = pd.DataFrame(data)\n",
    "\n",
    "\n",
    "missing(df)"
   ]
  },
  {
   "cell_type": "code",
   "execution_count": null,
   "metadata": {},
   "outputs": [],
   "source": []
  },
  {
   "cell_type": "code",
   "execution_count": null,
   "metadata": {},
   "outputs": [],
   "source": []
  }
 ],
 "metadata": {
  "kernelspec": {
   "display_name": ".venv",
   "language": "python",
   "name": "python3"
  },
  "language_info": {
   "codemirror_mode": {
    "name": "ipython",
    "version": 3
   },
   "file_extension": ".py",
   "mimetype": "text/x-python",
   "name": "python",
   "nbconvert_exporter": "python",
   "pygments_lexer": "ipython3",
   "version": "3.9.6"
  }
 },
 "nbformat": 4,
 "nbformat_minor": 2
}
